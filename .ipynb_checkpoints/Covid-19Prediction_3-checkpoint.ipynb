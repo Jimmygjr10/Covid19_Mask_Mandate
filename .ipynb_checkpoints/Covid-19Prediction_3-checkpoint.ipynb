{
 "cells": [
  {
   "cell_type": "code",
   "execution_count": 1,
   "id": "77976f3a",
   "metadata": {
    "colab": {
     "base_uri": "https://localhost:8080/",
     "height": 396
    },
    "executionInfo": {
     "elapsed": 168,
     "status": "error",
     "timestamp": 1644163396422,
     "user": {
      "displayName": "TeKisha Sampson",
      "photoUrl": "https://lh3.googleusercontent.com/a/default-user=s64",
      "userId": "11053860510581621298"
     },
     "user_tz": 300
    },
    "id": "77976f3a",
    "outputId": "7eec13dc-35d2-4ab5-a905-6a97efa68b58"
   },
   "outputs": [],
   "source": [
    "import pandas as pd\n",
    "import datetime as dt\n",
    "df = \"Resources/us-counties.csv\"\n",
    "df1 = pd.read_csv(df)\n",
    "file = \"Resources/county_mask_mandate_data.xlsx\"\n",
    "df2 = pd.read_excel(file)"
   ]
  },
  {
   "cell_type": "markdown",
   "id": "85d18f75",
   "metadata": {
    "id": "85d18f75"
   },
   "source": [
    "## Read in Both Datasets"
   ]
  },
  {
   "cell_type": "code",
   "execution_count": 2,
   "id": "a145c808",
   "metadata": {
    "id": "a145c808",
    "outputId": "5e12c4b6-61b4-4788-b3a1-dae9db0e59d1",
    "scrolled": true
   },
   "outputs": [
    {
     "data": {
      "text/html": [
       "<div>\n",
       "<style scoped>\n",
       "    .dataframe tbody tr th:only-of-type {\n",
       "        vertical-align: middle;\n",
       "    }\n",
       "\n",
       "    .dataframe tbody tr th {\n",
       "        vertical-align: top;\n",
       "    }\n",
       "\n",
       "    .dataframe thead th {\n",
       "        text-align: right;\n",
       "    }\n",
       "</style>\n",
       "<table border=\"1\" class=\"dataframe\">\n",
       "  <thead>\n",
       "    <tr style=\"text-align: right;\">\n",
       "      <th></th>\n",
       "      <th>date</th>\n",
       "      <th>county</th>\n",
       "      <th>state</th>\n",
       "      <th>fips</th>\n",
       "      <th>cases</th>\n",
       "      <th>deaths</th>\n",
       "    </tr>\n",
       "  </thead>\n",
       "  <tbody>\n",
       "    <tr>\n",
       "      <th>0</th>\n",
       "      <td>2020-01-21</td>\n",
       "      <td>Snohomish</td>\n",
       "      <td>Washington</td>\n",
       "      <td>53061.0</td>\n",
       "      <td>1</td>\n",
       "      <td>0.0</td>\n",
       "    </tr>\n",
       "    <tr>\n",
       "      <th>1</th>\n",
       "      <td>2020-01-22</td>\n",
       "      <td>Snohomish</td>\n",
       "      <td>Washington</td>\n",
       "      <td>53061.0</td>\n",
       "      <td>1</td>\n",
       "      <td>0.0</td>\n",
       "    </tr>\n",
       "    <tr>\n",
       "      <th>2</th>\n",
       "      <td>2020-01-23</td>\n",
       "      <td>Snohomish</td>\n",
       "      <td>Washington</td>\n",
       "      <td>53061.0</td>\n",
       "      <td>1</td>\n",
       "      <td>0.0</td>\n",
       "    </tr>\n",
       "    <tr>\n",
       "      <th>3</th>\n",
       "      <td>2020-01-24</td>\n",
       "      <td>Cook</td>\n",
       "      <td>Illinois</td>\n",
       "      <td>17031.0</td>\n",
       "      <td>1</td>\n",
       "      <td>0.0</td>\n",
       "    </tr>\n",
       "    <tr>\n",
       "      <th>4</th>\n",
       "      <td>2020-01-24</td>\n",
       "      <td>Snohomish</td>\n",
       "      <td>Washington</td>\n",
       "      <td>53061.0</td>\n",
       "      <td>1</td>\n",
       "      <td>0.0</td>\n",
       "    </tr>\n",
       "  </tbody>\n",
       "</table>\n",
       "</div>"
      ],
      "text/plain": [
       "         date     county       state     fips  cases  deaths\n",
       "0  2020-01-21  Snohomish  Washington  53061.0      1     0.0\n",
       "1  2020-01-22  Snohomish  Washington  53061.0      1     0.0\n",
       "2  2020-01-23  Snohomish  Washington  53061.0      1     0.0\n",
       "3  2020-01-24       Cook    Illinois  17031.0      1     0.0\n",
       "4  2020-01-24  Snohomish  Washington  53061.0      1     0.0"
      ]
     },
     "execution_count": 2,
     "metadata": {},
     "output_type": "execute_result"
    }
   ],
   "source": [
    "df1.head()"
   ]
  },
  {
   "cell_type": "code",
   "execution_count": 3,
   "id": "458406a0",
   "metadata": {
    "id": "458406a0",
    "outputId": "47a4592d-35f0-4740-d1f1-f147fbcfb65e"
   },
   "outputs": [
    {
     "data": {
      "text/plain": [
       "date       object\n",
       "county     object\n",
       "state      object\n",
       "fips      float64\n",
       "cases       int64\n",
       "deaths    float64\n",
       "dtype: object"
      ]
     },
     "execution_count": 3,
     "metadata": {},
     "output_type": "execute_result"
    }
   ],
   "source": [
    "#Shows the data types for the df1\n",
    "df1.dtypes"
   ]
  },
  {
   "cell_type": "code",
   "execution_count": 4,
   "id": "79c9dd47",
   "metadata": {
    "id": "79c9dd47",
    "outputId": "9f4d5741-41fe-4b3c-bf0e-395420671b09"
   },
   "outputs": [
    {
     "name": "stdout",
     "output_type": "stream",
     "text": [
      "19744\n"
     ]
    }
   ],
   "source": [
    "# count the number of rows with empty columns\n",
    "count = df1['fips'].isna().sum()\n",
    "print(count)"
   ]
  },
  {
   "cell_type": "code",
   "execution_count": 5,
   "id": "90212c68",
   "metadata": {
    "id": "90212c68",
    "outputId": "48f22d07-1ed2-49a4-a2db-74517ed7c685"
   },
   "outputs": [
    {
     "data": {
      "text/plain": [
       "date      2135147\n",
       "county    2135147\n",
       "state     2135147\n",
       "fips      2115403\n",
       "cases     2135147\n",
       "deaths    2086356\n",
       "dtype: int64"
      ]
     },
     "execution_count": 5,
     "metadata": {},
     "output_type": "execute_result"
    }
   ],
   "source": [
    "#count the number of rows with data in each column\n",
    "df1.count()"
   ]
  },
  {
   "cell_type": "code",
   "execution_count": 6,
   "id": "9dde3dde",
   "metadata": {
    "id": "9dde3dde"
   },
   "outputs": [],
   "source": [
    "# Drop the rows with blank data creating a new dataframe\n",
    "df1_clean = df1.dropna()"
   ]
  },
  {
   "cell_type": "code",
   "execution_count": 7,
   "id": "24fc613f",
   "metadata": {
    "id": "24fc613f",
    "outputId": "69f6d080-893f-47c4-fdda-12d494636bde"
   },
   "outputs": [
    {
     "data": {
      "text/plain": [
       "date      2066612\n",
       "county    2066612\n",
       "state     2066612\n",
       "fips      2066612\n",
       "cases     2066612\n",
       "deaths    2066612\n",
       "dtype: int64"
      ]
     },
     "execution_count": 7,
     "metadata": {},
     "output_type": "execute_result"
    }
   ],
   "source": [
    "# count the number of rows with data in each column from the clean dataframe\n",
    "df1_clean.count()"
   ]
  },
  {
   "cell_type": "code",
   "execution_count": 8,
   "id": "d3593e18",
   "metadata": {
    "id": "d3593e18",
    "outputId": "bc7c37a9-8ebc-467b-99c9-adecbb9113ae"
   },
   "outputs": [
    {
     "data": {
      "text/plain": [
       "0          53061\n",
       "1          53061\n",
       "2          53061\n",
       "3          17031\n",
       "4          53061\n",
       "           ...  \n",
       "2135142    56037\n",
       "2135143    56039\n",
       "2135144    56041\n",
       "2135145    56043\n",
       "2135146    56045\n",
       "Name: fips, Length: 2066612, dtype: int64"
      ]
     },
     "execution_count": 8,
     "metadata": {},
     "output_type": "execute_result"
    }
   ],
   "source": [
    "#change fips from float64 to int64 to match datatype of df1_clean \"county_fips\"\n",
    "df1_clean['fips'].astype('int64')"
   ]
  },
  {
   "cell_type": "code",
   "execution_count": 9,
   "id": "999e158d",
   "metadata": {
    "id": "999e158d",
    "outputId": "87bd0dd4-b4c5-40a9-f2ff-9d739d437428",
    "scrolled": false
   },
   "outputs": [
    {
     "data": {
      "text/plain": [
       "0            0\n",
       "1            0\n",
       "2            0\n",
       "3            0\n",
       "4            0\n",
       "          ... \n",
       "2135142    114\n",
       "2135143     14\n",
       "2135144     34\n",
       "2135145     41\n",
       "2135146     16\n",
       "Name: deaths, Length: 2066612, dtype: int64"
      ]
     },
     "execution_count": 9,
     "metadata": {},
     "output_type": "execute_result"
    }
   ],
   "source": [
    "# change deaths from float64 to int64 to match datatype of df1_clean \"deaths\"\n",
    "df1_clean['deaths'].astype('int64')"
   ]
  },
  {
   "cell_type": "code",
   "execution_count": 11,
   "id": "623f2a96",
   "metadata": {
    "id": "623f2a96",
    "outputId": "65f3ad15-6aa6-457f-ff48-77963d166738"
   },
   "outputs": [
    {
     "data": {
      "text/plain": [
       "0             1\n",
       "1             1\n",
       "2             1\n",
       "3             1\n",
       "4             1\n",
       "           ... \n",
       "2135142    9241\n",
       "2135143    8741\n",
       "2135144    4827\n",
       "2135145    2022\n",
       "2135146    1341\n",
       "Name: cases, Length: 2066612, dtype: int64"
      ]
     },
     "execution_count": 11,
     "metadata": {},
     "output_type": "execute_result"
    }
   ],
   "source": [
    "df1_clean['cases'].astype('int64')"
   ]
  },
  {
   "cell_type": "code",
   "execution_count": 16,
   "id": "b64e9fdc",
   "metadata": {
    "colab": {
     "base_uri": "https://localhost:8080/",
     "height": 208
    },
    "executionInfo": {
     "elapsed": 222,
     "status": "error",
     "timestamp": 1644163318976,
     "user": {
      "displayName": "TeKisha Sampson",
      "photoUrl": "https://lh3.googleusercontent.com/a/default-user=s64",
      "userId": "11053860510581621298"
     },
     "user_tz": 300
    },
    "id": "b64e9fdc",
    "outputId": "df6de729-5086-4be3-abd4-c02a07154fad",
    "scrolled": true
   },
   "outputs": [
    {
     "data": {
      "text/html": [
       "<div>\n",
       "<style scoped>\n",
       "    .dataframe tbody tr th:only-of-type {\n",
       "        vertical-align: middle;\n",
       "    }\n",
       "\n",
       "    .dataframe tbody tr th {\n",
       "        vertical-align: top;\n",
       "    }\n",
       "\n",
       "    .dataframe thead th {\n",
       "        text-align: right;\n",
       "    }\n",
       "</style>\n",
       "<table border=\"1\" class=\"dataframe\">\n",
       "  <thead>\n",
       "    <tr style=\"text-align: right;\">\n",
       "      <th></th>\n",
       "      <th>date</th>\n",
       "      <th>county</th>\n",
       "      <th>state</th>\n",
       "      <th>fips</th>\n",
       "      <th>cases</th>\n",
       "      <th>deaths</th>\n",
       "    </tr>\n",
       "  </thead>\n",
       "  <tbody>\n",
       "    <tr>\n",
       "      <th>881492</th>\n",
       "      <td>2020-12-31</td>\n",
       "      <td>Autauga</td>\n",
       "      <td>Alabama</td>\n",
       "      <td>1001.0</td>\n",
       "      <td>4190</td>\n",
       "      <td>48.0</td>\n",
       "    </tr>\n",
       "    <tr>\n",
       "      <th>881493</th>\n",
       "      <td>2020-12-31</td>\n",
       "      <td>Baldwin</td>\n",
       "      <td>Alabama</td>\n",
       "      <td>1003.0</td>\n",
       "      <td>13601</td>\n",
       "      <td>161.0</td>\n",
       "    </tr>\n",
       "    <tr>\n",
       "      <th>881494</th>\n",
       "      <td>2020-12-31</td>\n",
       "      <td>Barbour</td>\n",
       "      <td>Alabama</td>\n",
       "      <td>1005.0</td>\n",
       "      <td>1514</td>\n",
       "      <td>32.0</td>\n",
       "    </tr>\n",
       "    <tr>\n",
       "      <th>881495</th>\n",
       "      <td>2020-12-31</td>\n",
       "      <td>Bibb</td>\n",
       "      <td>Alabama</td>\n",
       "      <td>1007.0</td>\n",
       "      <td>1834</td>\n",
       "      <td>46.0</td>\n",
       "    </tr>\n",
       "    <tr>\n",
       "      <th>881496</th>\n",
       "      <td>2020-12-31</td>\n",
       "      <td>Blount</td>\n",
       "      <td>Alabama</td>\n",
       "      <td>1009.0</td>\n",
       "      <td>4641</td>\n",
       "      <td>63.0</td>\n",
       "    </tr>\n",
       "  </tbody>\n",
       "</table>\n",
       "</div>"
      ],
      "text/plain": [
       "              date   county    state    fips  cases  deaths\n",
       "881492  2020-12-31  Autauga  Alabama  1001.0   4190    48.0\n",
       "881493  2020-12-31  Baldwin  Alabama  1003.0  13601   161.0\n",
       "881494  2020-12-31  Barbour  Alabama  1005.0   1514    32.0\n",
       "881495  2020-12-31     Bibb  Alabama  1007.0   1834    46.0\n",
       "881496  2020-12-31   Blount  Alabama  1009.0   4641    63.0"
      ]
     },
     "execution_count": 16,
     "metadata": {},
     "output_type": "execute_result"
    }
   ],
   "source": [
    "# Group by county to get the total_cases for each county, read the last day of 2020 as the total number of cases and deaths\n",
    "df1_total = df1_clean.loc[df1_clean['date'] == \"2020-12-31\"]\n",
    "df1_total.head()"
   ]
  },
  {
   "cell_type": "code",
   "execution_count": 17,
   "id": "140a9c75",
   "metadata": {
    "id": "140a9c75",
    "outputId": "2034ed1f-2a49-4526-c218-0b0199957ea3",
    "scrolled": false
   },
   "outputs": [
    {
     "data": {
      "text/html": [
       "<div>\n",
       "<style scoped>\n",
       "    .dataframe tbody tr th:only-of-type {\n",
       "        vertical-align: middle;\n",
       "    }\n",
       "\n",
       "    .dataframe tbody tr th {\n",
       "        vertical-align: top;\n",
       "    }\n",
       "\n",
       "    .dataframe thead th {\n",
       "        text-align: right;\n",
       "    }\n",
       "</style>\n",
       "<table border=\"1\" class=\"dataframe\">\n",
       "  <thead>\n",
       "    <tr style=\"text-align: right;\">\n",
       "      <th></th>\n",
       "      <th>date</th>\n",
       "      <th>county</th>\n",
       "      <th>state</th>\n",
       "      <th>fips</th>\n",
       "      <th>cases</th>\n",
       "      <th>deaths</th>\n",
       "    </tr>\n",
       "  </thead>\n",
       "  <tbody>\n",
       "    <tr>\n",
       "      <th>881492</th>\n",
       "      <td>2020-12-31</td>\n",
       "      <td>Autauga</td>\n",
       "      <td>Alabama</td>\n",
       "      <td>1001.0</td>\n",
       "      <td>4190</td>\n",
       "      <td>48.0</td>\n",
       "    </tr>\n",
       "    <tr>\n",
       "      <th>881493</th>\n",
       "      <td>2020-12-31</td>\n",
       "      <td>Baldwin</td>\n",
       "      <td>Alabama</td>\n",
       "      <td>1003.0</td>\n",
       "      <td>13601</td>\n",
       "      <td>161.0</td>\n",
       "    </tr>\n",
       "    <tr>\n",
       "      <th>881494</th>\n",
       "      <td>2020-12-31</td>\n",
       "      <td>Barbour</td>\n",
       "      <td>Alabama</td>\n",
       "      <td>1005.0</td>\n",
       "      <td>1514</td>\n",
       "      <td>32.0</td>\n",
       "    </tr>\n",
       "    <tr>\n",
       "      <th>881495</th>\n",
       "      <td>2020-12-31</td>\n",
       "      <td>Bibb</td>\n",
       "      <td>Alabama</td>\n",
       "      <td>1007.0</td>\n",
       "      <td>1834</td>\n",
       "      <td>46.0</td>\n",
       "    </tr>\n",
       "    <tr>\n",
       "      <th>881496</th>\n",
       "      <td>2020-12-31</td>\n",
       "      <td>Blount</td>\n",
       "      <td>Alabama</td>\n",
       "      <td>1009.0</td>\n",
       "      <td>4641</td>\n",
       "      <td>63.0</td>\n",
       "    </tr>\n",
       "  </tbody>\n",
       "</table>\n",
       "</div>"
      ],
      "text/plain": [
       "              date   county    state    fips  cases  deaths\n",
       "881492  2020-12-31  Autauga  Alabama  1001.0   4190    48.0\n",
       "881493  2020-12-31  Baldwin  Alabama  1003.0  13601   161.0\n",
       "881494  2020-12-31  Barbour  Alabama  1005.0   1514    32.0\n",
       "881495  2020-12-31     Bibb  Alabama  1007.0   1834    46.0\n",
       "881496  2020-12-31   Blount  Alabama  1009.0   4641    63.0"
      ]
     },
     "execution_count": 17,
     "metadata": {},
     "output_type": "execute_result"
    }
   ],
   "source": [
    "# Drop duplicates so only county shows once\n",
    "df1_total = df1_total.drop_duplicates(subset=[\"fips\"])\n",
    "df1_total.head()"
   ]
  },
  {
   "cell_type": "markdown",
   "id": "e3acd5f1",
   "metadata": {
    "id": "e3acd5f1"
   },
   "source": [
    "## DataSet 2 Mask Mandate"
   ]
  },
  {
   "cell_type": "code",
   "execution_count": null,
   "id": "b1d3c4f8",
   "metadata": {
    "id": "b1d3c4f8",
    "outputId": "762cf5dc-6b89-479b-d278-6f3eb1923d7b"
   },
   "outputs": [],
   "source": [
    "df2.head()"
   ]
  },
  {
   "cell_type": "code",
   "execution_count": null,
   "id": "6fe4910c",
   "metadata": {
    "id": "6fe4910c",
    "outputId": "16cb0192-b019-41ee-a1e2-718f108b0b01"
   },
   "outputs": [],
   "source": [
    "df2.dtypes"
   ]
  },
  {
   "cell_type": "code",
   "execution_count": null,
   "id": "d58c620a",
   "metadata": {
    "id": "d58c620a",
    "outputId": "6b95f13f-00f8-4f9b-d5f8-92c5fa817783"
   },
   "outputs": [],
   "source": [
    "df2.count()"
   ]
  },
  {
   "cell_type": "code",
   "execution_count": null,
   "id": "46ec2970",
   "metadata": {
    "id": "46ec2970",
    "outputId": "f4ffe218-e286-4031-ffcb-9217f5b7ac3c",
    "scrolled": true
   },
   "outputs": [],
   "source": [
    "# Drop the unneeded columns \n",
    "df2_clean1 = df2.drop(['escalation', 'defiance', 'county_conditions', 'county_source', 'county_start_edate', 'state_start_edate', 'earliest_start_edate', 'county_fips_string', 'state_conditions', 'state_source'], axis=1)\n",
    "\n",
    "df2_clean1.head()"
   ]
  },
  {
   "cell_type": "code",
   "execution_count": null,
   "id": "12b06872",
   "metadata": {
    "id": "12b06872",
    "scrolled": true
   },
   "outputs": [],
   "source": [
    "# Create our mask_mandate column with binary values Yes or No\n",
    "no_mandate_df = df2_clean1[df2_clean1.county_start_date.isnull()]\n",
    "mandate_df = df2_clean1[df2_clean1.county_start_date.notnull()]"
   ]
  },
  {
   "cell_type": "code",
   "execution_count": null,
   "id": "33259e27",
   "metadata": {
    "id": "33259e27",
    "outputId": "3c2c4773-1c02-445a-9ce4-410251c95a2c"
   },
   "outputs": [],
   "source": [
    "# Create mask_mandate column\n",
    "no_mandate_df[\"mask_mandate\"] = \"0\"\n",
    "mandate_df[\"mask_mandate\"] = \"1\"\n",
    "merged_df = no_mandate_df.append(mandate_df)"
   ]
  },
  {
   "cell_type": "markdown",
   "id": "07e856d6",
   "metadata": {
    "id": "07e856d6"
   },
   "source": [
    "Show duration of mask mandate in 2020 only"
   ]
  },
  {
   "cell_type": "code",
   "execution_count": null,
   "id": "14b52ff7",
   "metadata": {
    "id": "14b52ff7",
    "outputId": "8402d361-99db-4c84-f937-cd83d5416962",
    "scrolled": true
   },
   "outputs": [],
   "source": [
    "# Create a null and not null dataset based on county start date\n",
    "duration_df = merged_df[merged_df.county_start_date.notnull()]\n",
    "duration_df1 = merged_df[merged_df.county_start_date.isnull()]\n",
    "# Create a column that keeps up with month started \n",
    "duration_df['month_started'] = pd.DatetimeIndex(duration_df['county_start_date']).month\n",
    "duration_df1['month_started'] = \"0\"\n"
   ]
  },
  {
   "cell_type": "code",
   "execution_count": null,
   "id": "fb588e7b",
   "metadata": {
    "id": "fb588e7b",
    "outputId": "d9c2a780-cada-4325-d7d7-8f23f6338bc3",
    "scrolled": true
   },
   "outputs": [],
   "source": [
    "# Create a new column that is the difference between month started and total months in a year\n",
    "duration_df[\"mandate_duration_months\"] = (12 - duration_df.month_started)\n",
    "duration_df1[\"mandate_duration_months\"] = 0\n",
    "final_df = duration_df.append(duration_df1)"
   ]
  },
  {
   "cell_type": "code",
   "execution_count": null,
   "id": "ae95d9c9",
   "metadata": {
    "id": "ae95d9c9",
    "outputId": "5c528fed-9a14-4422-b511-3015bda4be88"
   },
   "outputs": [],
   "source": [
    "final_df"
   ]
  },
  {
   "cell_type": "code",
   "execution_count": null,
   "id": "5dacf2f5",
   "metadata": {
    "id": "5dacf2f5"
   },
   "outputs": [],
   "source": [
    "# Split the county name into two columns NEEDS SOME WORK BECAUSE THERE ARE ARE SOME WITH MORE THAN ONE WORD AND END IN OTHER THINGS THAN COUNTY (BOROUGH, PARISH, CITY, CENSUS AREA)\n",
    "# may not be needed if using FIP as the identifier\n",
    "\n",
    "#df2_clean1['county'] = df2_clean1['county_name'].str.split(' ', expand=True)[0]\n",
    "#df2_clean1['name'] = df2_clean1['county_name'].str.split(' ', expand=True)[1]\n",
    "\n",
    "#df2_clean1.head()"
   ]
  },
  {
   "cell_type": "code",
   "execution_count": null,
   "id": "0856ccf2",
   "metadata": {
    "id": "0856ccf2"
   },
   "outputs": [],
   "source": [
    "# Drop the county_name column and the name column only leaving the county column with county name\n",
    "#df2_clean2 = df2_clean1.drop(['county_name', 'name'], axis=1)\n",
    "\n",
    "#df2_clean2.head()"
   ]
  },
  {
   "cell_type": "code",
   "execution_count": null,
   "id": "dbef28fa",
   "metadata": {
    "id": "dbef28fa"
   },
   "outputs": [],
   "source": [
    "#df2_clean2.dtypes"
   ]
  },
  {
   "cell_type": "code",
   "execution_count": null,
   "id": "29b0b569",
   "metadata": {
    "id": "29b0b569"
   },
   "outputs": [],
   "source": [
    "#df2_clean2.count()"
   ]
  }
 ],
 "metadata": {
  "colab": {
   "collapsed_sections": [],
   "name": "Covid-19Prediction_3.ipynb",
   "provenance": []
  },
  "interpreter": {
   "hash": "79b54beed2800456f6e2ea5c450669b05b9b9e38b5e9132ec024d7c62af5a66a"
  },
  "kernelspec": {
   "display_name": "Python 3 (ipykernel)",
   "language": "python",
   "name": "python3"
  },
  "language_info": {
   "codemirror_mode": {
    "name": "ipython",
    "version": 3
   },
   "file_extension": ".py",
   "mimetype": "text/x-python",
   "name": "python",
   "nbconvert_exporter": "python",
   "pygments_lexer": "ipython3",
   "version": "3.7.11"
  },
  "toc": {
   "base_numbering": 1,
   "nav_menu": {},
   "number_sections": true,
   "sideBar": true,
   "skip_h1_title": false,
   "title_cell": "Table of Contents",
   "title_sidebar": "Contents",
   "toc_cell": false,
   "toc_position": {},
   "toc_section_display": true,
   "toc_window_display": false
  }
 },
 "nbformat": 4,
 "nbformat_minor": 5
}
