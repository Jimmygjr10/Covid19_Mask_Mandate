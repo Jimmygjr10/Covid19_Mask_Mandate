{
 "cells": [
  {
   "cell_type": "code",
   "execution_count": 1,
   "metadata": {},
   "outputs": [],
   "source": [
    "import matplotlib.pyplot as plt\n",
    "import pandas as pd"
   ]
  },
  {
   "cell_type": "code",
   "execution_count": 3,
   "metadata": {},
   "outputs": [
    {
     "data": {
      "text/plain": [
       "state_fips                   int64\n",
       "state_name                  object\n",
       "fips                         int64\n",
       "county_name                 object\n",
       "county_start_date           object\n",
       "county_end_date             object\n",
       "state_start_date            object\n",
       "state_end_date              object\n",
       "earliest_start_date         object\n",
       "mask_mandate                 int64\n",
       "month_started                int64\n",
       "mandate_duration_months      int64\n",
       "date                        object\n",
       "county                      object\n",
       "state                       object\n",
       "cases                        int64\n",
       "deaths                     float64\n",
       "dtype: object"
      ]
     },
     "execution_count": 3,
     "metadata": {},
     "output_type": "execute_result"
    }
   ],
   "source": [
    "mldf = pd.read_csv('full_merged_df.csv')\n",
    "mldf.dtypes"
   ]
  },
  {
   "cell_type": "code",
   "execution_count": 4,
   "metadata": {},
   "outputs": [
    {
     "data": {
      "text/plain": [
       "state_fips                   int64\n",
       "fips                         int64\n",
       "mask_mandate                 int64\n",
       "month_started                int64\n",
       "mandate_duration_months      int64\n",
       "cases                        int64\n",
       "deaths                     float64\n",
       "dtype: object"
      ]
     },
     "execution_count": 4,
     "metadata": {},
     "output_type": "execute_result"
    }
   ],
   "source": [
    "mldf_numerical = mldf.select_dtypes(include = 'number')\n",
    "mldf_numerical.dtypes"
   ]
  }
 ],
 "metadata": {
  "interpreter": {
   "hash": "86969af4118fd2beaee010b14a97d3c8fe7dc31ff55f1528eea7eaecb45368d6"
  },
  "kernelspec": {
   "display_name": "Python 3.8.8 64-bit ('mlenv': conda)",
   "language": "python",
   "name": "python3"
  },
  "language_info": {
   "codemirror_mode": {
    "name": "ipython",
    "version": 3
   },
   "file_extension": ".py",
   "mimetype": "text/x-python",
   "name": "python",
   "nbconvert_exporter": "python",
   "pygments_lexer": "ipython3",
   "version": "3.8.8"
  },
  "orig_nbformat": 4
 },
 "nbformat": 4,
 "nbformat_minor": 2
}
