{
 "cells": [
  {
   "cell_type": "code",
   "execution_count": 1,
   "metadata": {},
   "outputs": [],
   "source": [
    "import matplotlib.pyplot as plt\n",
    "import pandas as pd\n",
    "from sklearn.preprocessing import StandardScaler\n",
    "from sklearn.cluster import KMeans"
   ]
  },
  {
   "cell_type": "code",
   "execution_count": 17,
   "metadata": {},
   "outputs": [
    {
     "data": {
      "text/plain": [
       "Unnamed: 0                   int64\n",
       "state_fips                   int64\n",
       "state_name                  object\n",
       "fips                         int64\n",
       "county_name                 object\n",
       "mask_mandate                 int64\n",
       "month_started                int64\n",
       "mandate_duration_months      int64\n",
       "date                        object\n",
       "county                      object\n",
       "state                       object\n",
       "cases                        int64\n",
       "deaths                       int64\n",
       "popestimate2020              int64\n",
       "e_results                    int64\n",
       "cases_perc                 float64\n",
       "deaths_perc                float64\n",
       "dtype: object"
      ]
     },
     "execution_count": 17,
     "metadata": {},
     "output_type": "execute_result"
    }
   ],
   "source": [
    "mldf = pd.read_csv('final.csv')\n",
    "mldf.dtypes"
   ]
  },
  {
   "cell_type": "code",
   "execution_count": 18,
   "metadata": {},
   "outputs": [
    {
     "data": {
      "text/html": [
       "<div>\n",
       "<style scoped>\n",
       "    .dataframe tbody tr th:only-of-type {\n",
       "        vertical-align: middle;\n",
       "    }\n",
       "\n",
       "    .dataframe tbody tr th {\n",
       "        vertical-align: top;\n",
       "    }\n",
       "\n",
       "    .dataframe thead th {\n",
       "        text-align: right;\n",
       "    }\n",
       "</style>\n",
       "<table border=\"1\" class=\"dataframe\">\n",
       "  <thead>\n",
       "    <tr style=\"text-align: right;\">\n",
       "      <th></th>\n",
       "      <th>Unnamed: 0</th>\n",
       "      <th>state_fips</th>\n",
       "      <th>state_name</th>\n",
       "      <th>fips</th>\n",
       "      <th>county_name</th>\n",
       "      <th>mask_mandate</th>\n",
       "      <th>month_started</th>\n",
       "      <th>mandate_duration_months</th>\n",
       "      <th>date</th>\n",
       "      <th>county</th>\n",
       "      <th>state</th>\n",
       "      <th>cases</th>\n",
       "      <th>deaths</th>\n",
       "      <th>popestimate2020</th>\n",
       "      <th>e_results</th>\n",
       "      <th>cases_perc</th>\n",
       "      <th>deaths_perc</th>\n",
       "      <th>cases_perc1</th>\n",
       "    </tr>\n",
       "  </thead>\n",
       "  <tbody>\n",
       "    <tr>\n",
       "      <th>3119</th>\n",
       "      <td>3119</td>\n",
       "      <td>56</td>\n",
       "      <td>WYOMING</td>\n",
       "      <td>56037</td>\n",
       "      <td>Sweetwater County</td>\n",
       "      <td>0</td>\n",
       "      <td>0</td>\n",
       "      <td>0</td>\n",
       "      <td>12/31/2020</td>\n",
       "      <td>Sweetwater</td>\n",
       "      <td>Wyoming</td>\n",
       "      <td>2966</td>\n",
       "      <td>16</td>\n",
       "      <td>42673</td>\n",
       "      <td>1</td>\n",
       "      <td>0.069505</td>\n",
       "      <td>0.000375</td>\n",
       "      <td>0</td>\n",
       "    </tr>\n",
       "    <tr>\n",
       "      <th>3120</th>\n",
       "      <td>3120</td>\n",
       "      <td>56</td>\n",
       "      <td>WYOMING</td>\n",
       "      <td>56039</td>\n",
       "      <td>Teton County</td>\n",
       "      <td>1</td>\n",
       "      <td>7</td>\n",
       "      <td>5</td>\n",
       "      <td>12/31/2020</td>\n",
       "      <td>Teton</td>\n",
       "      <td>Wyoming</td>\n",
       "      <td>2138</td>\n",
       "      <td>4</td>\n",
       "      <td>23497</td>\n",
       "      <td>1</td>\n",
       "      <td>0.090990</td>\n",
       "      <td>0.000170</td>\n",
       "      <td>0</td>\n",
       "    </tr>\n",
       "    <tr>\n",
       "      <th>3121</th>\n",
       "      <td>3121</td>\n",
       "      <td>56</td>\n",
       "      <td>WYOMING</td>\n",
       "      <td>56041</td>\n",
       "      <td>Uinta County</td>\n",
       "      <td>0</td>\n",
       "      <td>0</td>\n",
       "      <td>0</td>\n",
       "      <td>12/31/2020</td>\n",
       "      <td>Uinta</td>\n",
       "      <td>Wyoming</td>\n",
       "      <td>1558</td>\n",
       "      <td>7</td>\n",
       "      <td>20215</td>\n",
       "      <td>1</td>\n",
       "      <td>0.077071</td>\n",
       "      <td>0.000346</td>\n",
       "      <td>0</td>\n",
       "    </tr>\n",
       "    <tr>\n",
       "      <th>3122</th>\n",
       "      <td>3122</td>\n",
       "      <td>56</td>\n",
       "      <td>WYOMING</td>\n",
       "      <td>56043</td>\n",
       "      <td>Washakie County</td>\n",
       "      <td>0</td>\n",
       "      <td>0</td>\n",
       "      <td>0</td>\n",
       "      <td>12/31/2020</td>\n",
       "      <td>Washakie</td>\n",
       "      <td>Wyoming</td>\n",
       "      <td>780</td>\n",
       "      <td>19</td>\n",
       "      <td>7760</td>\n",
       "      <td>1</td>\n",
       "      <td>0.100515</td>\n",
       "      <td>0.002448</td>\n",
       "      <td>0</td>\n",
       "    </tr>\n",
       "    <tr>\n",
       "      <th>3123</th>\n",
       "      <td>3123</td>\n",
       "      <td>56</td>\n",
       "      <td>WYOMING</td>\n",
       "      <td>56045</td>\n",
       "      <td>Weston County</td>\n",
       "      <td>0</td>\n",
       "      <td>0</td>\n",
       "      <td>0</td>\n",
       "      <td>12/31/2020</td>\n",
       "      <td>Weston</td>\n",
       "      <td>Wyoming</td>\n",
       "      <td>476</td>\n",
       "      <td>2</td>\n",
       "      <td>6743</td>\n",
       "      <td>1</td>\n",
       "      <td>0.070592</td>\n",
       "      <td>0.000297</td>\n",
       "      <td>0</td>\n",
       "    </tr>\n",
       "  </tbody>\n",
       "</table>\n",
       "</div>"
      ],
      "text/plain": [
       "      Unnamed: 0  state_fips state_name   fips            county_name  \\\n",
       "3119        3119          56    WYOMING  56037  Sweetwater County       \n",
       "3120        3120          56    WYOMING  56039       Teton County       \n",
       "3121        3121          56    WYOMING  56041       Uinta County       \n",
       "3122        3122          56    WYOMING  56043    Washakie County       \n",
       "3123        3123          56    WYOMING  56045      Weston County       \n",
       "\n",
       "      mask_mandate  month_started  mandate_duration_months        date  \\\n",
       "3119             0              0                        0  12/31/2020   \n",
       "3120             1              7                        5  12/31/2020   \n",
       "3121             0              0                        0  12/31/2020   \n",
       "3122             0              0                        0  12/31/2020   \n",
       "3123             0              0                        0  12/31/2020   \n",
       "\n",
       "          county    state  cases  deaths  popestimate2020  e_results  \\\n",
       "3119  Sweetwater  Wyoming   2966      16            42673          1   \n",
       "3120       Teton  Wyoming   2138       4            23497          1   \n",
       "3121       Uinta  Wyoming   1558       7            20215          1   \n",
       "3122    Washakie  Wyoming    780      19             7760          1   \n",
       "3123      Weston  Wyoming    476       2             6743          1   \n",
       "\n",
       "      cases_perc  deaths_perc  cases_perc1  \n",
       "3119    0.069505     0.000375            0  \n",
       "3120    0.090990     0.000170            0  \n",
       "3121    0.077071     0.000346            0  \n",
       "3122    0.100515     0.002448            0  \n",
       "3123    0.070592     0.000297            0  "
      ]
     },
     "execution_count": 18,
     "metadata": {},
     "output_type": "execute_result"
    }
   ],
   "source": [
    "mldf['cases_perc1'] = mldf['cases']//mldf['popestimate2020']\n",
    "mldf.tail()"
   ]
  },
  {
   "cell_type": "code",
   "execution_count": 19,
   "metadata": {},
   "outputs": [
    {
     "data": {
      "text/html": [
       "<div>\n",
       "<style scoped>\n",
       "    .dataframe tbody tr th:only-of-type {\n",
       "        vertical-align: middle;\n",
       "    }\n",
       "\n",
       "    .dataframe tbody tr th {\n",
       "        vertical-align: top;\n",
       "    }\n",
       "\n",
       "    .dataframe thead th {\n",
       "        text-align: right;\n",
       "    }\n",
       "</style>\n",
       "<table border=\"1\" class=\"dataframe\">\n",
       "  <thead>\n",
       "    <tr style=\"text-align: right;\">\n",
       "      <th></th>\n",
       "      <th>Unnamed: 0</th>\n",
       "      <th>state_fips</th>\n",
       "      <th>state_name</th>\n",
       "      <th>fips</th>\n",
       "      <th>county_name</th>\n",
       "      <th>mask_mandate</th>\n",
       "      <th>month_started</th>\n",
       "      <th>mandate_duration_months</th>\n",
       "      <th>date</th>\n",
       "      <th>county</th>\n",
       "      <th>state</th>\n",
       "      <th>cases</th>\n",
       "      <th>deaths</th>\n",
       "      <th>popestimate2020</th>\n",
       "      <th>e_results</th>\n",
       "      <th>cases_perc</th>\n",
       "      <th>deaths_perc</th>\n",
       "      <th>cases_perc1</th>\n",
       "      <th>deaths_perc1</th>\n",
       "    </tr>\n",
       "  </thead>\n",
       "  <tbody>\n",
       "    <tr>\n",
       "      <th>0</th>\n",
       "      <td>0</td>\n",
       "      <td>1</td>\n",
       "      <td>ALABAMA</td>\n",
       "      <td>1001</td>\n",
       "      <td>Autauga County</td>\n",
       "      <td>0</td>\n",
       "      <td>0</td>\n",
       "      <td>0</td>\n",
       "      <td>12/31/2020</td>\n",
       "      <td>Autauga</td>\n",
       "      <td>Alabama</td>\n",
       "      <td>4190</td>\n",
       "      <td>48</td>\n",
       "      <td>56145</td>\n",
       "      <td>1</td>\n",
       "      <td>0.074628</td>\n",
       "      <td>0.000855</td>\n",
       "      <td>0</td>\n",
       "      <td>0</td>\n",
       "    </tr>\n",
       "    <tr>\n",
       "      <th>1</th>\n",
       "      <td>1</td>\n",
       "      <td>1</td>\n",
       "      <td>ALABAMA</td>\n",
       "      <td>1003</td>\n",
       "      <td>Baldwin County</td>\n",
       "      <td>1</td>\n",
       "      <td>7</td>\n",
       "      <td>5</td>\n",
       "      <td>12/31/2020</td>\n",
       "      <td>Baldwin</td>\n",
       "      <td>Alabama</td>\n",
       "      <td>13601</td>\n",
       "      <td>161</td>\n",
       "      <td>229287</td>\n",
       "      <td>1</td>\n",
       "      <td>0.059319</td>\n",
       "      <td>0.000702</td>\n",
       "      <td>0</td>\n",
       "      <td>0</td>\n",
       "    </tr>\n",
       "    <tr>\n",
       "      <th>2</th>\n",
       "      <td>2</td>\n",
       "      <td>1</td>\n",
       "      <td>ALABAMA</td>\n",
       "      <td>1005</td>\n",
       "      <td>Barbour County</td>\n",
       "      <td>0</td>\n",
       "      <td>0</td>\n",
       "      <td>0</td>\n",
       "      <td>12/31/2020</td>\n",
       "      <td>Barbour</td>\n",
       "      <td>Alabama</td>\n",
       "      <td>1514</td>\n",
       "      <td>32</td>\n",
       "      <td>24589</td>\n",
       "      <td>1</td>\n",
       "      <td>0.061572</td>\n",
       "      <td>0.001301</td>\n",
       "      <td>0</td>\n",
       "      <td>0</td>\n",
       "    </tr>\n",
       "    <tr>\n",
       "      <th>3</th>\n",
       "      <td>3</td>\n",
       "      <td>1</td>\n",
       "      <td>ALABAMA</td>\n",
       "      <td>1007</td>\n",
       "      <td>Bibb County</td>\n",
       "      <td>0</td>\n",
       "      <td>0</td>\n",
       "      <td>0</td>\n",
       "      <td>12/31/2020</td>\n",
       "      <td>Bibb</td>\n",
       "      <td>Alabama</td>\n",
       "      <td>1834</td>\n",
       "      <td>46</td>\n",
       "      <td>22136</td>\n",
       "      <td>1</td>\n",
       "      <td>0.082851</td>\n",
       "      <td>0.002078</td>\n",
       "      <td>0</td>\n",
       "      <td>0</td>\n",
       "    </tr>\n",
       "    <tr>\n",
       "      <th>4</th>\n",
       "      <td>4</td>\n",
       "      <td>1</td>\n",
       "      <td>ALABAMA</td>\n",
       "      <td>1009</td>\n",
       "      <td>Blount County</td>\n",
       "      <td>0</td>\n",
       "      <td>0</td>\n",
       "      <td>0</td>\n",
       "      <td>12/31/2020</td>\n",
       "      <td>Blount</td>\n",
       "      <td>Alabama</td>\n",
       "      <td>4641</td>\n",
       "      <td>63</td>\n",
       "      <td>57879</td>\n",
       "      <td>1</td>\n",
       "      <td>0.080185</td>\n",
       "      <td>0.001088</td>\n",
       "      <td>0</td>\n",
       "      <td>0</td>\n",
       "    </tr>\n",
       "  </tbody>\n",
       "</table>\n",
       "</div>"
      ],
      "text/plain": [
       "   Unnamed: 0  state_fips state_name  fips          county_name  mask_mandate  \\\n",
       "0           0           1    ALABAMA  1001   Autauga County                 0   \n",
       "1           1           1    ALABAMA  1003  Baldwin County                  1   \n",
       "2           2           1    ALABAMA  1005   Barbour County                 0   \n",
       "3           3           1    ALABAMA  1007      Bibb County                 0   \n",
       "4           4           1    ALABAMA  1009    Blount County                 0   \n",
       "\n",
       "   month_started  mandate_duration_months        date   county    state  \\\n",
       "0              0                        0  12/31/2020  Autauga  Alabama   \n",
       "1              7                        5  12/31/2020  Baldwin  Alabama   \n",
       "2              0                        0  12/31/2020  Barbour  Alabama   \n",
       "3              0                        0  12/31/2020     Bibb  Alabama   \n",
       "4              0                        0  12/31/2020   Blount  Alabama   \n",
       "\n",
       "   cases  deaths  popestimate2020  e_results  cases_perc  deaths_perc  \\\n",
       "0   4190      48            56145          1    0.074628     0.000855   \n",
       "1  13601     161           229287          1    0.059319     0.000702   \n",
       "2   1514      32            24589          1    0.061572     0.001301   \n",
       "3   1834      46            22136          1    0.082851     0.002078   \n",
       "4   4641      63            57879          1    0.080185     0.001088   \n",
       "\n",
       "   cases_perc1  deaths_perc1  \n",
       "0            0             0  \n",
       "1            0             0  \n",
       "2            0             0  \n",
       "3            0             0  \n",
       "4            0             0  "
      ]
     },
     "execution_count": 19,
     "metadata": {},
     "output_type": "execute_result"
    }
   ],
   "source": [
    "mldf['deaths_perc1'] = mldf['deaths']//mldf['popestimate2020']\n",
    "mldf.head()"
   ]
  },
  {
   "cell_type": "code",
   "execution_count": 20,
   "metadata": {},
   "outputs": [
    {
     "data": {
      "text/plain": [
       "Unnamed: 0                   int64\n",
       "state_fips                   int64\n",
       "state_name                  object\n",
       "fips                         int64\n",
       "county_name                 object\n",
       "mask_mandate                 int64\n",
       "month_started                int64\n",
       "mandate_duration_months      int64\n",
       "date                        object\n",
       "county                      object\n",
       "state                       object\n",
       "cases                        int64\n",
       "deaths                       int64\n",
       "popestimate2020              int64\n",
       "e_results                    int64\n",
       "cases_perc                 float64\n",
       "deaths_perc                float64\n",
       "cases_perc1                  int64\n",
       "deaths_perc1                 int64\n",
       "dtype: object"
      ]
     },
     "execution_count": 20,
     "metadata": {},
     "output_type": "execute_result"
    }
   ],
   "source": [
    "mldf.dtypes"
   ]
  },
  {
   "cell_type": "code",
   "execution_count": 21,
   "metadata": {},
   "outputs": [
    {
     "data": {
      "text/plain": [
       "Unnamed: 0                   int64\n",
       "state_fips                   int64\n",
       "fips                         int64\n",
       "mask_mandate                 int64\n",
       "month_started                int64\n",
       "mandate_duration_months      int64\n",
       "cases                        int64\n",
       "deaths                       int64\n",
       "popestimate2020              int64\n",
       "e_results                    int64\n",
       "cases_perc                 float64\n",
       "deaths_perc                float64\n",
       "cases_perc1                  int64\n",
       "deaths_perc1                 int64\n",
       "dtype: object"
      ]
     },
     "execution_count": 21,
     "metadata": {},
     "output_type": "execute_result"
    }
   ],
   "source": [
    "mldf_numerical = mldf.select_dtypes(include = 'number')\n",
    "mldf_numerical.dtypes"
   ]
  },
  {
   "cell_type": "code",
   "execution_count": null,
   "metadata": {},
   "outputs": [],
   "source": []
  },
  {
   "cell_type": "code",
   "execution_count": 22,
   "metadata": {},
   "outputs": [],
   "source": [
    "#drop columns that don't need to be input features\n",
    "mldf_for_scaling = mldf_numerical.drop(columns=['Unnamed: 0', 'state_fips', 'fips', 'month_started', 'cases', 'deaths', 'popestimate2020', 'cases_perc', 'deaths_perc'])\n"
   ]
  },
  {
   "cell_type": "code",
   "execution_count": 23,
   "metadata": {},
   "outputs": [
    {
     "data": {
      "text/plain": [
       "mask_mandate               int64\n",
       "mandate_duration_months    int64\n",
       "e_results                  int64\n",
       "cases_perc1                int64\n",
       "deaths_perc1               int64\n",
       "dtype: object"
      ]
     },
     "execution_count": 23,
     "metadata": {},
     "output_type": "execute_result"
    }
   ],
   "source": [
    "mldf_for_scaling.dtypes"
   ]
  },
  {
   "cell_type": "code",
   "execution_count": 24,
   "metadata": {},
   "outputs": [],
   "source": [
    "#scale the new dataset\n",
    "scaler = StandardScaler()\n",
    "mldf_scaled = scaler.fit_transform(mldf_for_scaling)"
   ]
  },
  {
   "cell_type": "code",
   "execution_count": 30,
   "metadata": {},
   "outputs": [
    {
     "data": {
      "text/plain": [
       "dtype('int64')"
      ]
     },
     "execution_count": 30,
     "metadata": {},
     "output_type": "execute_result"
    }
   ],
   "source": [
    "mldf_scaled.astype('int64').dtype"
   ]
  },
  {
   "cell_type": "code",
   "execution_count": 32,
   "metadata": {},
   "outputs": [
    {
     "ename": "IndexError",
     "evalue": "only integers, slices (`:`), ellipsis (`...`), numpy.newaxis (`None`) and integer or boolean arrays are valid indices",
     "output_type": "error",
     "traceback": [
      "\u001b[1;31m---------------------------------------------------------------------------\u001b[0m",
      "\u001b[1;31mIndexError\u001b[0m                                Traceback (most recent call last)",
      "\u001b[1;32m<ipython-input-32-97d42edeb6df>\u001b[0m in \u001b[0;36m<module>\u001b[1;34m\u001b[0m\n\u001b[0;32m      1\u001b[0m \u001b[1;31m# assign variables, y = depedent variable - death percentage; x = independent variable - mask_mandate\u001b[0m\u001b[1;33m\u001b[0m\u001b[1;33m\u001b[0m\u001b[1;33m\u001b[0m\u001b[0m\n\u001b[1;32m----> 2\u001b[1;33m \u001b[0my\u001b[0m \u001b[1;33m=\u001b[0m \u001b[0mmldf_scaled\u001b[0m\u001b[1;33m[\u001b[0m\u001b[1;34m'mask_mandate'\u001b[0m\u001b[1;33m]\u001b[0m\u001b[1;33m\u001b[0m\u001b[1;33m\u001b[0m\u001b[0m\n\u001b[0m\u001b[0;32m      3\u001b[0m \u001b[0mX\u001b[0m \u001b[1;33m=\u001b[0m \u001b[0mmldf_scaled\u001b[0m\u001b[1;33m.\u001b[0m\u001b[0mdrop\u001b[0m\u001b[1;33m(\u001b[0m\u001b[0mcolumns\u001b[0m\u001b[1;33m=\u001b[0m\u001b[1;34m'mask_mandate'\u001b[0m\u001b[1;33m)\u001b[0m\u001b[1;33m\u001b[0m\u001b[1;33m\u001b[0m\u001b[0m\n",
      "\u001b[1;31mIndexError\u001b[0m: only integers, slices (`:`), ellipsis (`...`), numpy.newaxis (`None`) and integer or boolean arrays are valid indices"
     ]
    }
   ],
   "source": [
    "# assign variables, y = depedent variable - death percentage; x = independent variable - mask_mandate\n",
    "y = mldf_scaled['mask_mandate']\n",
    "X = mldf_scaled.drop(columns='mask_mandate')"
   ]
  },
  {
   "cell_type": "code",
   "execution_count": null,
   "metadata": {},
   "outputs": [],
   "source": [
    "from sklearn.model_selection import train_test_split\n",
    "X_train, X_test, y_train, y_test = train_test_split(X, y, random_state=78)"
   ]
  },
  {
   "cell_type": "code",
   "execution_count": null,
   "metadata": {},
   "outputs": [],
   "source": [
    "from sklearn.linear_model import LogisticRegression\n",
    "classifier = LogisticRegression(solver='lbfgs', random_state=78)\n",
    "classifier"
   ]
  },
  {
   "cell_type": "code",
   "execution_count": null,
   "metadata": {},
   "outputs": [],
   "source": [
    "LogisticRegression(C=1.0, class_weight=None, dual=False, fit_intercept=True,\n",
    "   intercept_scaling=1, max_iter=1500, multi_class='warn', penalty='12',\n",
    "   random_state=78, solver='lbfgs', tol=0.0001, warm_start=False)"
   ]
  },
  {
   "cell_type": "code",
   "execution_count": null,
   "metadata": {},
   "outputs": [],
   "source": [
    "classifier.fit(X_train, y_train)"
   ]
  },
  {
   "cell_type": "code",
   "execution_count": null,
   "metadata": {},
   "outputs": [],
   "source": [
    "#Create predictions and assemble the results into a dataframe\n",
    "\n",
    "predictions = classifier.predict(X_test)\n",
    "pd.DataFrame({\"Prediction\": predictions, \"Actual\": y_test})"
   ]
  },
  {
   "cell_type": "code",
   "execution_count": null,
   "metadata": {},
   "outputs": [],
   "source": [
    "# Assess performance\n",
    "\n",
    "from sklearn.metrics import accuracy_score\n",
    "accuracy_score(y_test, predictions)"
   ]
  },
  {
   "cell_type": "code",
   "execution_count": null,
   "metadata": {},
   "outputs": [],
   "source": [
    "#scale the new dataset\n",
    "scaler = StandardScaler()\n",
    "mldf_scaled = scaler.fit_transform(mldf_for_scaling)"
   ]
  },
  {
   "cell_type": "code",
   "execution_count": null,
   "metadata": {},
   "outputs": [],
   "source": [
    "mldf_scaled"
   ]
  },
  {
   "cell_type": "code",
   "execution_count": null,
   "metadata": {},
   "outputs": [],
   "source": []
  }
 ],
 "metadata": {
  "interpreter": {
   "hash": "86969af4118fd2beaee010b14a97d3c8fe7dc31ff55f1528eea7eaecb45368d6"
  },
  "kernelspec": {
   "display_name": "Python 3.8.8 64-bit ('mlenv': conda)",
   "language": "python",
   "name": "python3"
  },
  "language_info": {
   "codemirror_mode": {
    "name": "ipython",
    "version": 3
   },
   "file_extension": ".py",
   "mimetype": "text/x-python",
   "name": "python",
   "nbconvert_exporter": "python",
   "pygments_lexer": "ipython3",
   "version": "3.8.8"
  },
  "orig_nbformat": 4
 },
 "nbformat": 4,
 "nbformat_minor": 2
}
